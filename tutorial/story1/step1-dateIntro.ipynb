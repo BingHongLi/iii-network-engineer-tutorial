{
 "cells": [
  {
   "cell_type": "code",
   "execution_count": null,
   "metadata": {},
   "outputs": [],
   "source": [
    "# Unix time\n",
    "# datetime 操作\n",
    "# http://tool.chinaz.com/Tools/unixtime.aspx\n",
    "# http://www.ithome.com.tw/voice/106285\n",
    "\"\"\"\n",
    "時間是一個資訊行業裡很關鍵的學問\n",
    "想像為何行軍時，在出發前，士兵們總要對時？\n",
    "因為時間若不一致，則行為不能預測。\n",
    "若長官說一點全體突襲，士兵A的手錶是十點，士兵B的手錶是九點\n",
    "時間不一致，突襲兵力不夠，行動以失敗告終。\n",
    "\n",
    "故我們能知道，在一個多層合作的架構中，時間的處理與統一是很重要\n",
    "\n",
    "\"\"\"\n",
    "\n",
    "# 在電腦時間，我們習慣以timestamp作為記錄時間的方式\n",
    "# 下面展示，如何取得timestamp時間\n",
    "\n",
    "# 載入套件\n",
    "import datetime\n",
    "\n",
    "# 預設為utc時間\n",
    "nowUtcUnixTime = datetime.datetime.utcnow().timestamp()\n",
    "print(nowUtcUnixTime)\n",
    "\n",
    "# 轉換成整數\n",
    "print(int(nowUtcUnixTime))\n"
   ]
  },
  {
   "cell_type": "code",
   "execution_count": null,
   "metadata": {},
   "outputs": [],
   "source": [
    "# 轉換成人類可懂的時間\n",
    "# 從utc時間，轉換成人類可懂的時間單位，並轉為字串做處理。\n",
    "# 時間轉換字串之參考資料\n",
    "# http://www.runoob.com/python/python-date-time.html\n",
    "\n",
    "# 2017-08-25 05:32:01  （年-月-日 時：分：秒）\n",
    "nowTime = datetime.datetime.utcnow().strftime(\"%Y-%m-%d %H:%M:%S\")\n",
    "print(nowTime)\n",
    "\n",
    "# 201708250532 (年月日時分)\n",
    "nowTime2 = datetime.datetime.utcnow().strftime(\"%Y%m%d%H%M\")\n",
    "print(nowTime2)"
   ]
  },
  {
   "cell_type": "code",
   "execution_count": null,
   "metadata": {},
   "outputs": [],
   "source": [
    "# 取得明天\n",
    "tomorrow = datetime.datetime.utcnow() + datetime.timedelta(days=1)\n",
    "print(tomorrow)\n",
    "\n",
    "# 取得昨天\n",
    "yesterday = datetime.datetime.utcnow() - datetime.timedelta(days=1)\n",
    "print(yesterday)\n",
    "\n",
    "# 取得兩天的時間差\n",
    "aDay = datetime.datetime(2017,8,25,12,0,0)\n",
    "bDay = datetime.datetime.now()\n",
    "print((aDay-bDay).total_seconds())"
   ]
  },
  {
   "cell_type": "code",
   "execution_count": null,
   "metadata": {},
   "outputs": [],
   "source": [
    "\"\"\"\n",
    "前面已經討論完 基礎的時間處理後\n",
    "我們現在要來探討的是時間的統一\n",
    "\n",
    "將時間轉為utc(+0)時間，而後當不同時區索取資料時，我們可以視其時區，進行時間轉換\n",
    "\n",
    "關鍵字\n",
    "utc gmt utc+8\n",
    "\"\"\"\n",
    "# 在jupyter預設本地時間即為utc時間\n",
    "# 在本機開發環境則為當地時間\n",
    "nowLocalUnixTime = datetime.datetime.now().timestamp()\n",
    "print(int(nowLocalUnixTime))\n",
    "\n",
    "# 時間差\n",
    "gmt8Second = int(nowLocalUnixTime)-int(nowUtcUnixTime)\n",
    "print(gmt8Second)\n",
    "print(gmt8Second/3600)\n"
   ]
  },
  {
   "cell_type": "code",
   "execution_count": null,
   "metadata": {},
   "outputs": [],
   "source": [
    "!pip install pytz"
   ]
  },
  {
   "cell_type": "code",
   "execution_count": null,
   "metadata": {},
   "outputs": [],
   "source": [
    "\"\"\"\n",
    "有的時候，我們會希望把utc時間轉成指定地區的時間\n",
    "\n",
    "作法如下\n",
    "\"\"\"\n",
    "from pytz import timezone\n",
    "# 直接將某個datetime，轉成該地區之時間\n",
    "localTime = datetime.datetime.fromtimestamp(nowUtcUnixTime,timezone('Asia/Taipei')) \n",
    "print(localTime)\n",
    "# 將該地區時間取出我們要的部分\n",
    "print(localTime.strftime('%Y-%m-%d %H:%M:%S %Z%z'))\n",
    "# 轉換成我們要的部分\n",
    "print(localTime.strftime('%Y-%m-%d-%H:%M:%S'))"
   ]
  },
  {
   "cell_type": "code",
   "execution_count": null,
   "metadata": {
    "collapsed": true
   },
   "outputs": [],
   "source": []
  }
 ],
 "metadata": {
  "kernelspec": {
   "display_name": "Python 3",
   "language": "python",
   "name": "python3"
  },
  "language_info": {
   "codemirror_mode": {
    "name": "ipython",
    "version": 3
   },
   "file_extension": ".py",
   "mimetype": "text/x-python",
   "name": "python",
   "nbconvert_exporter": "python",
   "pygments_lexer": "ipython3",
   "version": "3.6.2"
  }
 },
 "nbformat": 4,
 "nbformat_minor": 2
}
