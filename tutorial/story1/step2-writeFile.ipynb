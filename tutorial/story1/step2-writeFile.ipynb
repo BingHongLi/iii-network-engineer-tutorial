{
 "cells": [
  {
   "cell_type": "code",
   "execution_count": null,
   "metadata": {
    "collapsed": true
   },
   "outputs": [],
   "source": [
    "\"\"\"\n",
    "流程\n",
    "\n",
    "\n",
    "新建資料夾 -> 新建檔案 -> 賦予檔名 -> 寫入資料 -> 關閉檔案 \n",
    "\n",
    "\n",
    "\"\"\""
   ]
  },
  {
   "cell_type": "code",
   "execution_count": null,
   "metadata": {},
   "outputs": [],
   "source": [
    "\n",
    "\"\"\"\n",
    "創造檔案，刪除檔案與資料夾，創建資料夾，寫入資料，關閉檔案\n",
    "\"\"\"\n",
    "import os\n",
    "import shutil\n",
    "\n",
    "# 取得當前路徑\n",
    "print(os.getcwd())\n",
    "\n",
    "# 創造資料夾\n",
    "# Output Unit\n",
    "# 若資料夾存在，則刪除\n",
    "# 若資料夾不存在，則創造資料夾，且寫入資料\n",
    "if os.path.exists('testDir') :\n",
    "    # 刪除資料夾與檔案\n",
    "    shutil.rmtree('./testDir')\n",
    "else:\n",
    "    # 創造資料夾\n",
    "    os.mkdir('testDir')\n",
    "    # 開起一個檔案\n",
    "    openStep2File = open('testDir/step2.txt','w')\n",
    "    # 將資料寫入檔案\n",
    "    openStep2File.write('hello everyone')\n",
    "    # 將檔案關閉\n",
    "    openStep2File.close()\n",
    "\n"
   ]
  },
  {
   "cell_type": "code",
   "execution_count": null,
   "metadata": {
    "collapsed": true
   },
   "outputs": [],
   "source": [
    "\"\"\"\n",
    "Lab\n",
    "\n",
    "將人類可視日期作為檔名，並將unix timestamp寫入檔案內\n",
    "範例\n",
    "2017-08-29.txt\n",
    "內容\n",
    "142353465\n",
    "\n",
    "\"\"\""
   ]
  },
  {
   "cell_type": "code",
   "execution_count": null,
   "metadata": {
    "collapsed": true
   },
   "outputs": [],
   "source": [
    "\"\"\"\n",
    "Lab\n",
    "\n",
    "開啟一個檔案，原內容不可消失，附加內容在檔案的末端\n",
    "\n",
    "\"\"\""
   ]
  }
 ],
 "metadata": {
  "kernelspec": {
   "display_name": "Python 3",
   "language": "python",
   "name": "python3"
  },
  "language_info": {
   "codemirror_mode": {
    "name": "ipython",
    "version": 3
   },
   "file_extension": ".py",
   "mimetype": "text/x-python",
   "name": "python",
   "nbconvert_exporter": "python",
   "pygments_lexer": "ipython3",
   "version": "3.6.2"
  }
 },
 "nbformat": 4,
 "nbformat_minor": 2
}
