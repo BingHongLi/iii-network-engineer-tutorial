{
 "cells": [
  {
   "cell_type": "code",
   "execution_count": 1,
   "metadata": {
    "collapsed": true
   },
   "outputs": [
    {
     "data": {
      "text/plain": [
       "'\\n\\n讀取檔案 -> 將裡面內容列印出來 -> 關閉檔案\\n\\n\\n'"
      ]
     },
     "execution_count": 1,
     "metadata": {},
     "output_type": "execute_result"
    }
   ],
   "source": [
    "\"\"\"\n",
    "\n",
    "讀取檔案 -> 將裡面內容列印出來 -> 關閉檔案\n",
    "\n",
    "\n",
    "\"\"\""
   ]
  },
  {
   "cell_type": "code",
   "execution_count": 11,
   "metadata": {
    "collapsed": true
   },
   "outputs": [
    {
     "name": "stdout",
     "output_type": "stream",
     "text": [
      "歡迎加入資策會的大家庭\n\n\n\n希望你們在這裡能夠學有所長\n\n\n\n為資策會盡一份心力，把自己變得很好，幫助需要幫助的人。\n\n\n\n這樣我們大家都能在未來感到十分光榮。\n['歡迎加入資策會的大家庭\\n', '\\n', '希望你們在這裡能夠學有所長\\n', '\\n', '為資策會盡一份心力，把自己變得很好，幫助需要幫助的人。\\n', '\\n', '這樣我們大家都能在未來感到十分光榮。']\n"
     ]
    }
   ],
   "source": [
    "readFile = open('./story1/step3-material','r')\n",
    "\n",
    "# readlines 這個方法能夠將內容放到一個陣列中，傳回該陣列。\n",
    "contentArray = readFile.readlines()\n",
    "print(contentArray)\n",
    "\n",
    "# 單行讀取，並在迴圈中操作\n",
    "for line in contentArray:\n",
    "    print(line)\n",
    "\n",
    "readFile.close()    "
   ]
  },
  {
   "cell_type": "code",
   "execution_count": 15,
   "metadata": {
    "collapsed": true
   },
   "outputs": [
    {
     "data": {
      "text/plain": [
       "'希望你們在這裡能夠學有所長\\n'"
      ]
     },
     "execution_count": 15,
     "metadata": {},
     "output_type": "execute_result"
    }
   ],
   "source": [
    "\"\"\"\n",
    "Lab\n",
    "\n",
    "綜合Lab\n",
    "\n",
    "開啟一個新檔案，寫入內容，並將檔案關閉。\n",
    "讀取該檔案，將內容印出，將檔案關閉。\n",
    "\n",
    "\"\"\""
   ]
  },
  {
   "cell_type": "code",
   "execution_count": null,
   "metadata": {},
   "outputs": [],
   "source": []
  }
 ],
 "metadata": {
  "kernelspec": {
   "display_name": "Python 2",
   "language": "python",
   "name": "python2"
  },
  "language_info": {
   "codemirror_mode": {
    "name": "ipython",
    "version": 2
   },
   "file_extension": ".py",
   "mimetype": "text/x-python",
   "name": "python",
   "nbconvert_exporter": "python",
   "pygments_lexer": "ipython2",
   "version": "2.7.6"
  }
 },
 "nbformat": 4,
 "nbformat_minor": 0
}
