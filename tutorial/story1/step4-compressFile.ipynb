{
 "cells": [
  {
   "cell_type": "code",
   "execution_count": null,
   "metadata": {
    "collapsed": true
   },
   "outputs": [],
   "source": [
    "\"\"\"\n",
    "\n",
    "壓縮檔案 -> 解壓縮檔案 -> 移動檔案\n",
    "\n",
    "\"\"\""
   ]
  },
  {
   "cell_type": "code",
   "execution_count": null,
   "metadata": {
    "collapsed": true
   },
   "outputs": [],
   "source": [
    "# 壓縮檔案\n",
    "from zipfile import ZipFile\n",
    "\n",
    "# 第一個參數是 壓縮檔路徑與檔名 第二個是開啟檔案要做的事情，第三個是壓縮比，預設是不壓縮\n",
    "targetZipFile = ZipFile(\"./step4-demo.zip\",'w')\n",
    "\n",
    "# 將要壓縮的檔案寫入，並告知在裡面要叫什麼名字\n",
    "targetZipFile.write(\"./step3-material\",\"step4-demo\")\n",
    "\n",
    "# 關閉檔案\n",
    "targetZipFile.close()"
   ]
  },
  {
   "cell_type": "code",
   "execution_count": null,
   "metadata": {
    "collapsed": true
   },
   "outputs": [],
   "source": [
    "# 解壓縮檔案\n",
    "# 引用套件\n",
    "from zipfile import ZipFile\n",
    "# 讀取壓縮檔\n",
    "depressFile = ZipFile(\"./step4-demo.zip\",'r')\n",
    "# 為壓縮檔裡的檔案作解壓縮\n",
    "for eachfile in depressFile.namelist():\n",
    "    depressFile.extract(eachfile,\"./\")\n",
    "# 關閉壓縮檔    \n",
    "depressFile.close()"
   ]
  },
  {
   "cell_type": "code",
   "execution_count": null,
   "metadata": {},
   "outputs": [],
   "source": [
    "#移動檔案\n",
    "from shutil import move\n",
    "move(\"./step4-demo\",\"./step4-demo-new\")"
   ]
  },
  {
   "cell_type": "code",
   "execution_count": null,
   "metadata": {
    "collapsed": true
   },
   "outputs": [],
   "source": [
    "\"\"\"\n",
    "Lab\n",
    "\n",
    "結合上述流程，\n",
    "\n",
    "依照時間戳記創造一個檔案，並寫入資料，而後關閉檔案\n",
    "壓縮檔案後，移動檔案至專案資料夾下的garbage資料夾。\n",
    "\n",
    "\"\"\""
   ]
  }
 ],
 "metadata": {
  "kernelspec": {
   "display_name": "Python 3",
   "language": "python",
   "name": "python3"
  },
  "language_info": {
   "codemirror_mode": {
    "name": "ipython",
    "version": 3
   },
   "file_extension": ".py",
   "mimetype": "text/x-python",
   "name": "python",
   "nbconvert_exporter": "python",
   "pygments_lexer": "ipython3",
   "version": "3.6.2"
  }
 },
 "nbformat": 4,
 "nbformat_minor": 1
}
