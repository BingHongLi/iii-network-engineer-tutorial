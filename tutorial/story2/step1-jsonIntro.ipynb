{
 "cells": [
  {
   "cell_type": "code",
   "execution_count": 1,
   "metadata": {},
   "outputs": [
    {
     "data": {
      "text/plain": [
       "'\\n\\n對四種json類型，分別做demo展示\\n\\n'"
      ]
     },
     "execution_count": 1,
     "metadata": {},
     "output_type": "execute_result"
    }
   ],
   "source": [
    "\"\"\"\n",
    "\n",
    "對四種json類型，分別做demo展示\n",
    "\n",
    "\"\"\""
   ]
  },
  {
   "cell_type": "code",
   "execution_count": 5,
   "metadata": {},
   "outputs": [
    {
     "name": "stdout",
     "output_type": "stream",
     "text": [
      "{'jsonNumber': 1, 'jsonString': 'this is a string'}\n",
      "1\n",
      "'this is a string'\n",
      "{'jsonNumber': 1,\n",
      " 'jsonString': 'this is a string',\n",
      " 'newJsonObject': {'iii': 123, 'just': 'key'},\n",
      " 'newNumber': 123,\n",
      " 'newNumberArray': [1, 2, 3, 4],\n",
      " 'newString': 'string',\n",
      " 'newStringArray': ['a', 'b', 'c', 'd']}\n"
     ]
    },
    {
     "data": {
      "text/plain": [
       "'{\"jsonNumber\": 1, \"jsonString\": \"this is a string\", \"newNumber\": 123, \"newString\": \"string\", \"newNumberArray\": [1, 2, 3, 4], \"newStringArray\": [\"a\", \"b\", \"c\", \"d\"], \"newJsonObject\": {\"iii\": 123, \"just\": \"key\"}}'"
      ]
     },
     "execution_count": 5,
     "metadata": {},
     "output_type": "execute_result"
    }
   ],
   "source": [
    "\"\"\"\n",
    "step1-json-object.json\n",
    "\n",
    "讀檔-> 轉成json物件 -> 讀取欄位 -> 新增欄位 -> dumpJson\n",
    "\n",
    "\"\"\"\n",
    "\n",
    "jsonObjectString = open(\"./step1-json-object.json\",'r')\n",
    "\n",
    "import json\n",
    "from pprint import pprint\n",
    "\n",
    "jsonObject = json.load(jsonObjectString)\n",
    "\n",
    "# 檢視欄位\n",
    "pprint(jsonObject)\n",
    "pprint(jsonObject[\"jsonNumber\"])\n",
    "pprint(jsonObject[\"jsonString\"])\n",
    "# print(jsonObject[\"dd\"]) # 此欄位不存在，會爆出Error\n",
    "\n",
    "\n",
    "# 新增欄位\n",
    "# 新增ㄧ個key value  對應 數字\n",
    "jsonObject[\"newNumber\"]=123\n",
    "\n",
    "# 新增ㄧ個key value  對應 字串\n",
    "jsonObject[\"newString\"]=\"string\"\n",
    "\n",
    "# 新增一個key 對應 json number array \n",
    "jsonObject[\"newNumberArray\"]=[1,2,3,4]\n",
    "\n",
    "# 新增ㄧ個key value  對應 json string array\n",
    "jsonObject[\"newStringArray\"]=[\"a\",\"b\",\"c\",\"d\"]\n",
    "\n",
    "# 新增ㄧ個key value  對應 json object\n",
    "jsonObject[\"newJsonObject\"]={\"iii\":123,\"just\":\"key\"}\n",
    "pprint(jsonObject)\n",
    "\n",
    "jsonObjectString.close()\n",
    "\n",
    "# 轉成json\n",
    "json.dumps(jsonObject)"
   ]
  },
  {
   "cell_type": "code",
   "execution_count": 6,
   "metadata": {},
   "outputs": [
    {
     "name": "stdout",
     "output_type": "stream",
     "text": [
      "[{'jsonNumber': 1, 'jsonString': 'this is a string'},\n",
      " {'jsonNumber': 2, 'jsonString': 'second'}]\n"
     ]
    }
   ],
   "source": [
    "\"\"\"\n",
    "Lab\n",
    "\n",
    "開啟step1-json-objects此檔案，將裡面的string逐行讀出，轉成json \n",
    "並放入 array 中  \n",
    "\n",
    "\"\"\"\n",
    "\n",
    "jsonObjectStrings = open(\"./step1-json-objects.json\",'r')\n",
    "\n",
    "import json\n",
    "jsonArray = []\n",
    "\n",
    "for jsonObjectString in jsonObjectStrings:\n",
    "    jsonObject = json.loads(jsonObjectString)\n",
    "    jsonArray.append(jsonObject)\n",
    "    \n",
    "from pprint import pprint\n",
    "pprint(jsonArray)\n",
    "\n",
    "\n"
   ]
  },
  {
   "cell_type": "code",
   "execution_count": 7,
   "metadata": {},
   "outputs": [
    {
     "name": "stdout",
     "output_type": "stream",
     "text": [
      "1\n",
      "2\n",
      "3\n",
      "4\n",
      "5\n",
      "6\n"
     ]
    }
   ],
   "source": [
    "\"\"\"\n",
    "\n",
    "step1-json-array.json\n",
    "\n",
    "將裡面字串讀出，轉換成json，並調用裡面的元素\n",
    "\n",
    "\"\"\"\n",
    "\n",
    "jsonArrayStrings = open(\"./step1-json-array.json\",'r')\n",
    "\n",
    "import json\n",
    "jsonArray = json.load(jsonArrayStrings)\n",
    "\n",
    "for element in jsonArray:\n",
    "    pprint(element)\n"
   ]
  },
  {
   "cell_type": "code",
   "execution_count": 8,
   "metadata": {},
   "outputs": [
    {
     "name": "stdout",
     "output_type": "stream",
     "text": [
      "{'jsonArray': [1, 2, 3, 4, 5, 6],\n",
      " 'jsonObject': {'jsonNumber': 2, 'jsonString': 'this is a string'}}\n",
      "[1, 2, 3, 4, 5, 6]\n",
      "1\n",
      "2\n"
     ]
    }
   ],
   "source": [
    "\"\"\"\n",
    "\n",
    "step1-json-objectOfArray.json\n",
    "\n",
    "講裡面字串讀出，轉換成json object，調用其鍵值，發現裡面有json array\n",
    "\n",
    "\"\"\"\n",
    "\n",
    "jsonArrayOfObjectString =  open(\"./step1-json-objectOfArray.json\",\"r\")\n",
    "\n",
    "import json\n",
    "jsonArrayOfObject = json.load(jsonArrayOfObjectString)\n",
    "\n",
    "# 將json object 印出\n",
    "pprint(jsonArrayOfObject)\n",
    "\n",
    "# 調用json object裡的 json array做操作\n",
    "pprint(jsonArrayOfObject['jsonArray'])\n",
    "pprint(jsonArrayOfObject['jsonArray'][0])\n",
    "\n",
    "# 調用json object中的json object\n",
    "pprint(jsonArrayOfObject['jsonObject']['jsonNumber'])"
   ]
  },
  {
   "cell_type": "code",
   "execution_count": null,
   "metadata": {},
   "outputs": [],
   "source": [
    "\"\"\"\n",
    "\n",
    "step1-json-arrayOfObject.json\n",
    "\n",
    "將裡面字串讀入，轉換成json array，提取出個別json object進行操作\n",
    "\n",
    "\"\"\"\n",
    "\n",
    "# 讀檔\n",
    "jsonObjectOfArrayString =  open(\"./step1-json-arrayOfObject.json\",'r')\n",
    "\n",
    "# 轉換成json\n",
    "import json\n",
    "jsonObjectOfArray = json.load(jsonObjectOfArrayString)\n",
    "\n",
    "# 印出json array\n",
    "from pprint import pprint\n",
    "pprint(jsonObjectOfArray)\n",
    "\n",
    "#逐條印出\n",
    "for jsonObject in jsonObjectOfArray:\n",
    "    pprint(jsonObject)\n",
    "\n",
    "# 刪除元素\n",
    "del jsonObjectOfArray[2]\n",
    "pprint(jsonObjectOfArray)"
   ]
  },
  {
   "cell_type": "code",
   "execution_count": null,
   "metadata": {
    "collapsed": true
   },
   "outputs": [],
   "source": []
  }
 ],
 "metadata": {
  "kernelspec": {
   "display_name": "Python 3",
   "language": "python",
   "name": "python3"
  },
  "language_info": {
   "codemirror_mode": {
    "name": "ipython",
    "version": 3
   },
   "file_extension": ".py",
   "mimetype": "text/x-python",
   "name": "python",
   "nbconvert_exporter": "python",
   "pygments_lexer": "ipython3",
   "version": "3.6.2"
  }
 },
 "nbformat": 4,
 "nbformat_minor": 1
}
