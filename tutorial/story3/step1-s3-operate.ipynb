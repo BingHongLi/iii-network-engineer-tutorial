{
 "cells": [
  {
   "cell_type": "code",
   "execution_count": null,
   "metadata": {},
   "outputs": [],
   "source": [
    "\"\"\"\n",
    "資料的儲存是資訊業很重要的一環\n",
    "\n",
    "無論 商業邏輯開發或後續的資料備份及維運，都面臨到資料儲存\n",
    "\n",
    "S3是aws的核心資料儲存服務，\n",
    "\n",
    "於是S3的操作，便顯得重要起來。\n",
    "\n",
    "\"\"\""
   ]
  },
  {
   "cell_type": "code",
   "execution_count": null,
   "metadata": {},
   "outputs": [],
   "source": [
    "!pip install boto3 awscli"
   ]
  },
  {
   "cell_type": "code",
   "execution_count": null,
   "metadata": {},
   "outputs": [],
   "source": [
    "\"\"\"\n",
    "瀏覽有哪一些桶子\n",
    "\n",
    "\"\"\"\n",
    "\n",
    "import boto3\n",
    "from pprint import pprint\n",
    "\n",
    "client = boto3.client(\n",
    "    's3'\n",
    ")\n",
    "\n",
    "pprint(client.list_buckets())"
   ]
  },
  {
   "cell_type": "code",
   "execution_count": null,
   "metadata": {},
   "outputs": [],
   "source": [
    "\"\"\"\n",
    "創建桶子\n",
    "\n",
    "\"\"\"\n",
    "\n",
    "import boto3\n",
    "from pprint import pprint\n",
    "\n",
    "s3resource = boto3.resource('s3')\n",
    "s3TargetBucket = s3resource.Bucket('iii-network-demo')\n",
    "s3CreateTargetBucket = s3TargetBucket.create(\n",
    "    ACL='private',\n",
    "    CreateBucketConfiguration={\n",
    "        'LocationConstraint': 'ap-northeast-1'\n",
    "    }\n",
    ")\n",
    "pprint(s3TargetBucket)"
   ]
  },
  {
   "cell_type": "code",
   "execution_count": null,
   "metadata": {},
   "outputs": [],
   "source": [
    "\"\"\"\n",
    "瀏覽桶子內的物件\n",
    "\n",
    "\"\"\"\n",
    "\n",
    "import boto3\n",
    "from pprint import pprint\n",
    "\n",
    "client = boto3.client(\n",
    "    's3'\n",
    ")\n",
    "\n",
    "pprint(client.list_objects_v2(Bucket='iii-network-demo'))"
   ]
  },
  {
   "cell_type": "code",
   "execution_count": null,
   "metadata": {},
   "outputs": [],
   "source": [
    "\"\"\"\n",
    "\n",
    "上傳物件至桶子中\n",
    "\n",
    "\"\"\"\n",
    "\n",
    "import boto3\n",
    "from pprint import pprint\n",
    "\n",
    "s3resource = boto3.resource('s3')\n",
    "uploadObject = s3resource.Object('iii-network-demo', 'step1-s3-demo.txt').put(Body=open('./step1-s3-demo.txt', 'rb'))\n",
    "pprint(uploadObject)"
   ]
  },
  {
   "cell_type": "code",
   "execution_count": null,
   "metadata": {},
   "outputs": [],
   "source": [
    "\"\"\"\n",
    "瀏覽桶子內的物件\n",
    "\n",
    "\"\"\"\n",
    "\n",
    "import boto3\n",
    "from pprint import pprint\n",
    "\n",
    "client = boto3.client(\n",
    "    's3'\n",
    ")\n",
    "\n",
    "listS3Result = client.list_objects_v2(Bucket='iii-network-demo')\n",
    "\n",
    "# 瀏覽現在擁有的桶子\n",
    "pprint(listS3Result.get('Contents'))"
   ]
  },
  {
   "cell_type": "code",
   "execution_count": null,
   "metadata": {
    "collapsed": true
   },
   "outputs": [],
   "source": [
    "\"\"\"\n",
    "下載物件\n",
    "\n",
    "\"\"\"\n",
    "\n",
    "import boto3\n",
    "from pprint import pprint\n",
    "\n",
    "s3Resource = boto3.resource(\n",
    "    's3'\n",
    ")\n",
    "\n",
    "s3Resource.meta.client.download_file('iii-network-demo', \n",
    "                                     'step1-s3-demo.txt', \n",
    "                                     './step1-s3-demo-download.txt')"
   ]
  },
  {
   "cell_type": "code",
   "execution_count": null,
   "metadata": {},
   "outputs": [],
   "source": [
    "\"\"\"\n",
    "刪除物件\n",
    "\"\"\"\n",
    "\n",
    "import boto3\n",
    "from pprint import pprint\n",
    "\n",
    "\n",
    "\n",
    "# 檢視檔案\n",
    "s3Client = boto3.client(\n",
    "    's3'\n",
    ")\n",
    "\n",
    "s3Client.delete_object(Bucket='iii-network-demo',Key='step1-s3-demo.txt')\n",
    "\n",
    "listS3Result = s3Client.list_objects_v2(Bucket='iii-network-demo')\n",
    "\n",
    "# 瀏覽現在擁有的桶子\n",
    "pprint(listS3Result)"
   ]
  },
  {
   "cell_type": "code",
   "execution_count": null,
   "metadata": {
    "collapsed": true
   },
   "outputs": [],
   "source": []
  }
 ],
 "metadata": {
  "kernelspec": {
   "display_name": "Python 3",
   "language": "python",
   "name": "python3"
  },
  "language_info": {
   "codemirror_mode": {
    "name": "ipython",
    "version": 3
   },
   "file_extension": ".py",
   "mimetype": "text/x-python",
   "name": "python",
   "nbconvert_exporter": "python",
   "pygments_lexer": "ipython3",
   "version": "3.6.2"
  }
 },
 "nbformat": 4,
 "nbformat_minor": 1
}
