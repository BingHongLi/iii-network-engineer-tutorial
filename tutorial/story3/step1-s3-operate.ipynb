{
 "cells": [
  {
   "cell_type": "code",
   "execution_count": 1,
   "metadata": {
    "collapsed": true
   },
   "outputs": [
    {
     "data": {
      "text/plain": [
       "'\\n\\n\\n'"
      ]
     },
     "execution_count": 1,
     "metadata": {},
     "output_type": "execute_result"
    }
   ],
   "source": [
    "\"\"\"\n",
    "資料的儲存是資訊業很重要的一環\n",
    "\n",
    "無論 商業邏輯開發或後續的資料備份及維運，都面臨到資料儲存\n",
    "\n",
    "S3是aws的核心資料儲存服務，\n",
    "\n",
    "於是S3的操作，便顯得重要起來。\n",
    "\n",
    "\"\"\""
   ]
  },
  {
   "cell_type": "code",
   "execution_count": 3,
   "metadata": {
    "collapsed": false
   },
   "outputs": [
    {
     "name": "stdout",
     "output_type": "stream",
     "text": [
      "{'Buckets': [{'CreationDate': datetime.datetime(2017, 7, 29, 10, 42, 30, tzinfo=tzlocal()),\n              'Name': 'qltrail-lab-265-1501324949'}],\n 'Owner': {'DisplayName': 'awsedu009235',\n           'ID': '800c56b0503fd92b1aba33ba91bc0b135a8c68b18a1d0e1ddf2e425aa94888a8'},\n 'ResponseMetadata': {'HTTPHeaders': {'content-type': 'application/xml',\n                                      'date': 'Sun, 27 Aug 2017 04:37:09 GMT',\n                                      'server': 'AmazonS3',\n                                      'transfer-encoding': 'chunked',\n                                      'x-amz-id-2': 'escMYXwIOGhxnAXWIgcMNxcS1z2kcXNPrURq1BQZNh21s2Rsb+nKmwWT8Yq2yhAGpc8SaoBe63o=',\n                                      'x-amz-request-id': 'C0BC3629CCECC456'},\n                      'HTTPStatusCode': 200,\n                      'HostId': 'escMYXwIOGhxnAXWIgcMNxcS1z2kcXNPrURq1BQZNh21s2Rsb+nKmwWT8Yq2yhAGpc8SaoBe63o=',\n                      'RequestId': 'C0BC3629CCECC456',\n                      'RetryAttempts': 0}}\n"
     ]
    }
   ],
   "source": [
    "\"\"\"\n",
    "瀏覽有哪一些桶子\n",
    "\n",
    "\"\"\"\n",
    "\n",
    "import boto3\n",
    "from pprint import pprint\n",
    "\n",
    "client = boto3.client(\n",
    "    's3'\n",
    ")\n",
    "\n",
    "pprint(client.list_buckets())"
   ]
  },
  {
   "cell_type": "code",
   "execution_count": 5,
   "metadata": {},
   "outputs": [
    {
     "name": "stdout",
     "output_type": "stream",
     "text": [
      "s3.Bucket(name='iii-network-demo')\n"
     ]
    }
   ],
   "source": [
    "\"\"\"\n",
    "創建桶子\n",
    "\n",
    "\"\"\"\n",
    "\n",
    "import boto3\n",
    "from pprint import pprint\n",
    "\n",
    "s3resource = boto3.resource('s3')\n",
    "s3TargetBucket = s3resource.Bucket('iii-network-demo')\n",
    "s3CreateTargetBucket = s3TargetBucket.create(\n",
    "    ACL='private',\n",
    "    CreateBucketConfiguration={\n",
    "        'LocationConstraint': 'ap-northeast-1'\n",
    "    }\n",
    ")\n",
    "pprint(s3TargetBucket)"
   ]
  },
  {
   "cell_type": "code",
   "execution_count": 8,
   "metadata": {},
   "outputs": [
    {
     "name": "stdout",
     "output_type": "stream",
     "text": [
      "{'IsTruncated': False,\n 'KeyCount': 0,\n 'MaxKeys': 1000,\n 'Name': 'iii-network-demo',\n 'Prefix': '',\n 'ResponseMetadata': {'HTTPHeaders': {'content-type': 'application/xml',\n                                      'date': 'Sun, 27 Aug 2017 04:43:46 GMT',\n                                      'server': 'AmazonS3',\n                                      'transfer-encoding': 'chunked',\n                                      'x-amz-bucket-region': 'ap-northeast-1',\n                                      'x-amz-id-2': 'TIXfoterU5V/77sS3CxySIKwk8H714RpKoWxqWcIRqJ9EfFSKM7cf6uslVp74K/hfcr2Z9j4Z1M=',\n                                      'x-amz-request-id': '756D23486F530346'},\n                      'HTTPStatusCode': 200,\n                      'HostId': 'TIXfoterU5V/77sS3CxySIKwk8H714RpKoWxqWcIRqJ9EfFSKM7cf6uslVp74K/hfcr2Z9j4Z1M=',\n                      'RequestId': '756D23486F530346',\n                      'RetryAttempts': 0}}\n"
     ]
    }
   ],
   "source": [
    "\"\"\"\n",
    "瀏覽桶子內的物件\n",
    "\n",
    "\"\"\"\n",
    "\n",
    "import boto3\n",
    "from pprint import pprint\n",
    "\n",
    "client = boto3.client(\n",
    "    's3'\n",
    ")\n",
    "\n",
    "pprint(client.list_objects_v2(Bucket='iii-network-demo'))"
   ]
  },
  {
   "cell_type": "code",
   "execution_count": 9,
   "metadata": {},
   "outputs": [
    {
     "name": "stdout",
     "output_type": "stream",
     "text": [
      "{'ETag': '\"ca1235dd9162e87d6c7290501ba62ef8\"',\n 'ResponseMetadata': {'HTTPHeaders': {'content-length': '0',\n                                      'date': 'Sun, 27 Aug 2017 04:47:38 GMT',\n                                      'etag': '\"ca1235dd9162e87d6c7290501ba62ef8\"',\n                                      'server': 'AmazonS3',\n                                      'x-amz-id-2': 'LFR+01Ksn1+zNOdI/fA3oQgQ6wQZXLvOdDWylQo2PmgSjTHPnOfwt4PJ7iK9hJaCzAtuQLpVOsA=',\n                                      'x-amz-request-id': '380FAA365CBF40F2'},\n                      'HTTPStatusCode': 200,\n                      'HostId': 'LFR+01Ksn1+zNOdI/fA3oQgQ6wQZXLvOdDWylQo2PmgSjTHPnOfwt4PJ7iK9hJaCzAtuQLpVOsA=',\n                      'RequestId': '380FAA365CBF40F2',\n                      'RetryAttempts': 0}}\n"
     ]
    }
   ],
   "source": [
    "\"\"\"\n",
    "\n",
    "上傳物件至桶子中\n",
    "\n",
    "\"\"\"\n",
    "\n",
    "import boto3\n",
    "from pprint import pprint\n",
    "\n",
    "s3resource = boto3.resource('s3')\n",
    "uploadObject = s3resource.Object('iii-network-demo', 'step1-s3-demo.txt').put(Body=open('story3/step1-s3-demo.txt', 'rb'))\n",
    "pprint(uploadObject)"
   ]
  },
  {
   "cell_type": "code",
   "execution_count": 21,
   "metadata": {},
   "outputs": [],
   "source": [
    "\"\"\"\n",
    "瀏覽桶子內的物件\n",
    "\n",
    "\"\"\"\n",
    "\n",
    "import boto3\n",
    "from pprint import pprint\n",
    "\n",
    "client = boto3.client(\n",
    "    's3'\n",
    ")\n",
    "\n",
    "listS3Result = client.list_objects_v2(Bucket='iii-network-demo')\n",
    "\n",
    "# 瀏覽現在擁有的桶子\n",
    "pprint(listS3Result['Contents'])"
   ]
  },
  {
   "cell_type": "code",
   "execution_count": 24,
   "metadata": {},
   "outputs": [],
   "source": [
    "\"\"\"\n",
    "下載物件\n",
    "\n",
    "\"\"\"\n",
    "\n",
    "import boto3\n",
    "from pprint import pprint\n",
    "\n",
    "s3Resource = boto3.resource(\n",
    "    's3'\n",
    ")\n",
    "\n",
    "s3Resource.meta.client.download_file('iii-network-demo', \n",
    "                                     'step1-s3-demo.txt', \n",
    "                                     'story3/step1-s3-demo-download.txt')"
   ]
  },
  {
   "cell_type": "code",
   "execution_count": 29,
   "metadata": {
    "collapsed": true
   },
   "outputs": [
    {
     "name": "stdout",
     "output_type": "stream",
     "text": [
      "{'IsTruncated': False,\n 'KeyCount': 0,\n 'MaxKeys': 1000,\n 'Name': 'iii-network-demo',\n 'Prefix': '',\n 'ResponseMetadata': {'HTTPHeaders': {'content-type': 'application/xml',\n                                      'date': 'Sun, 27 Aug 2017 05:51:35 GMT',\n                                      'server': 'AmazonS3',\n                                      'transfer-encoding': 'chunked',\n                                      'x-amz-bucket-region': 'ap-northeast-1',\n                                      'x-amz-id-2': 'xXJlLYiPIs1vqrbftDEwHHDe8ZHBAz+bHoiRUDDu1mTllugw0ueBrcYY7sOkM1kr0uTB6rk8XD8=',\n                                      'x-amz-request-id': '478ABD0EE8859804'},\n                      'HTTPStatusCode': 200,\n                      'HostId': 'xXJlLYiPIs1vqrbftDEwHHDe8ZHBAz+bHoiRUDDu1mTllugw0ueBrcYY7sOkM1kr0uTB6rk8XD8=',\n                      'RequestId': '478ABD0EE8859804',\n                      'RetryAttempts': 0}}\n"
     ]
    }
   ],
   "source": [
    "\"\"\"\n",
    "刪除物件\n",
    "\"\"\"\n",
    "\n",
    "import boto3\n",
    "from pprint import pprint\n",
    "\n",
    "\n",
    "\n",
    "# 檢視檔案\n",
    "s3Client = boto3.client(\n",
    "    's3'\n",
    ")\n",
    "\n",
    "s3Client.delete_object(Bucket='iii-network-demo',Key='step1-s3-demo.txt')\n",
    "\n",
    "listS3Result = s3Client.list_objects_v2(Bucket='iii-network-demo')\n",
    "\n",
    "# 瀏覽現在擁有的桶子\n",
    "pprint(listS3Result)"
   ]
  },
  {
   "cell_type": "code",
   "execution_count": null,
   "metadata": {},
   "outputs": [],
   "source": []
  }
 ],
 "metadata": {
  "kernelspec": {
   "display_name": "Python 2",
   "language": "python",
   "name": "python2"
  },
  "language_info": {
   "codemirror_mode": {
    "name": "ipython",
    "version": 2
   },
   "file_extension": ".py",
   "mimetype": "text/x-python",
   "name": "python",
   "nbconvert_exporter": "python",
   "pygments_lexer": "ipython2",
   "version": "2.7.6"
  }
 },
 "nbformat": 4,
 "nbformat_minor": 0
}
