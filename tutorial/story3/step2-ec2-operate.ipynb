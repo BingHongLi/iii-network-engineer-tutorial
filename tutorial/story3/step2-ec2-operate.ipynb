{
 "cells": [
  {
   "cell_type": "code",
   "execution_count": null,
   "metadata": {
    "collapsed": true
   },
   "outputs": [],
   "source": [
    "\"\"\"\n",
    "資料除了儲存，便是操作。\n",
    "ec2是aws 核心的操作資料服務，\n",
    "因此了解ec2的操作功能，也變得重要起來。\n",
    "\"\"\""
   ]
  },
  {
   "cell_type": "code",
   "execution_count": null,
   "metadata": {},
   "outputs": [],
   "source": [
    "!pip install boto3 awscli"
   ]
  },
  {
   "cell_type": "code",
   "execution_count": null,
   "metadata": {},
   "outputs": [],
   "source": [
    "# 運行機器\n",
    "# 需輸入 imageId、instance type, instance amount,security group name\n",
    "import boto3\n",
    "from pprint import pprint\n",
    "\n",
    "ec2Resource = boto3.resource('ec2', region_name='us-west-2')\n",
    "launchInstanceDict = ec2Resource.create_instances(ImageId='ami-aa5ebdd2',\n",
    "                     InstanceType='t2.micro',\n",
    "                     MinCount=1, MaxCount=1,\n",
    "                     SecurityGroupIds=['default'],\n",
    "                     KeyName='iii-test',\n",
    "                     #DryRun=True\n",
    ")\n",
    "pprint(launchInstanceDict)"
   ]
  },
  {
   "cell_type": "code",
   "execution_count": null,
   "metadata": {},
   "outputs": [],
   "source": [
    "# 關閉機器\n",
    "import boto3\n",
    "from pprint import pprint\n",
    "ec2Client = boto3.client(\n",
    "    'ec2'\n",
    ")\n",
    "\n",
    "stopInstanceDict = ec2Client.stop_instances(\n",
    "    InstanceIds=[\n",
    "        'i-0589d790dbb4dcb72',\n",
    "    ],\n",
    "    #DryRun=True\n",
    ")\n",
    "pprint(stopInstanceDict)"
   ]
  },
  {
   "cell_type": "code",
   "execution_count": null,
   "metadata": {},
   "outputs": [],
   "source": [
    "# 鏡像備份\n",
    "import boto3\n",
    "from pprint import pprint\n",
    "ec2Client = boto3.client(\n",
    "    'ec2'\n",
    ")\n",
    "\n",
    "backupEbsSnapshotDict = ec2Client.create_snapshot(\n",
    "    Description='just backup',\n",
    "    VolumeId='vol-0856e0766c67fc4e4',\n",
    "    #DryRun=True\n",
    ")\n",
    "pprint(backupEbsSnapshotDict)"
   ]
  },
  {
   "cell_type": "code",
   "execution_count": null,
   "metadata": {},
   "outputs": [],
   "source": [
    "#開啟機器\n",
    "import boto3\n",
    "from pprint import pprint\n",
    "ec2Client = boto3.client(\n",
    "    'ec2'\n",
    ")\n",
    "\n",
    "\n",
    "startIntanceDict=ec2Client.start_instances(\n",
    "    InstanceIds=[\n",
    "        'i-0589d790dbb4dcb72',\n",
    "    ],\n",
    "    #DryRun=True\n",
    ")\n",
    "pprint(startIntanceDict)"
   ]
  },
  {
   "cell_type": "code",
   "execution_count": null,
   "metadata": {},
   "outputs": [],
   "source": [
    "# 刪除機器\n",
    "import boto3\n",
    "from pprint import pprint\n",
    "ec2Client = boto3.client(\n",
    "    'ec2'\n",
    ")\n",
    "\n",
    "terminateInstanceDict = ec2Client.terminate_instances(\n",
    "    InstanceIds=[\n",
    "        'i-0589d790dbb4dcb72',\n",
    "    ],\n",
    "    #DryRun=True\n",
    ")\n",
    "pprint(terminateInstanceDict)"
   ]
  },
  {
   "cell_type": "code",
   "execution_count": null,
   "metadata": {},
   "outputs": [],
   "source": [
    "\"\"\"\n",
    "\n",
    "問題來了，這些資訊要如何取得\n",
    "http://docs.aws.amazon.com/AWSEC2/latest/UserGuide/ec2-instance-metadata.html\n",
    "\n",
    "請該台機器自行訪問自己的機器，查詢出instance-id，並以該id作為post data傳回控制server\n",
    "`curl http://169.254.169.254/latest/meta-data/instance-id`\n",
    "\n",
    "而後便可進行操作\n",
    "\"\"\""
   ]
  },
  {
   "cell_type": "code",
   "execution_count": null,
   "metadata": {},
   "outputs": [],
   "source": [
    "# 依照instance-id取得 volume-id\n",
    "import boto3\n",
    "from pprint import pprint\n",
    "\n",
    "# 取得該台機器之相關資訊\n",
    "ec2Resource= boto3.resource('ec2')\n",
    "instanceInfo = ec2Resource.Instance('i-097cff9f76fc2da55')\n",
    "# pprint(instanceInfo)"
   ]
  },
  {
   "cell_type": "code",
   "execution_count": null,
   "metadata": {},
   "outputs": [],
   "source": [
    "# 觀察內容\n",
    "pprint(instanceInfo.block_device_mappings)\n",
    "\n",
    "# 取出volumeid\n",
    "print(instanceInfo.block_device_mappings[0]['Ebs']['VolumeId'])\n"
   ]
  },
  {
   "cell_type": "code",
   "execution_count": null,
   "metadata": {
    "collapsed": true
   },
   "outputs": [],
   "source": []
  }
 ],
 "metadata": {
  "kernelspec": {
   "display_name": "Python 3",
   "language": "python",
   "name": "python3"
  },
  "language_info": {
   "codemirror_mode": {
    "name": "ipython",
    "version": 3
   },
   "file_extension": ".py",
   "mimetype": "text/x-python",
   "name": "python",
   "nbconvert_exporter": "python",
   "pygments_lexer": "ipython3",
   "version": "3.6.2"
  }
 },
 "nbformat": 4,
 "nbformat_minor": 1
}
