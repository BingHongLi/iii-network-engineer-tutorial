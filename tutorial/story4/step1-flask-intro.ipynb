{
 "cells": [
  {
   "cell_type": "code",
   "execution_count": null,
   "metadata": {
    "collapsed": true
   },
   "outputs": [],
   "source": [
    "\"\"\"\n",
    "\n",
    "後端工程師經常會需要做一些適合用一個http server來做的需求，\n",
    "有的時候如果會快速地開發一個簡單易用的http server，這些需求也就會因此迎刃而解。\n",
    "\n",
    "\"\"\""
   ]
  },
  {
   "cell_type": "code",
   "execution_count": null,
   "metadata": {},
   "outputs": [],
   "source": [
    "# 安裝flask套件\n",
    "!pip install flask"
   ]
  },
  {
   "cell_type": "code",
   "execution_count": null,
   "metadata": {},
   "outputs": [],
   "source": [
    "\"\"\"\n",
    "flask 簡單hello world 實作\n",
    "\"\"\"\n",
    "\n",
    "from flask import Flask, request, abort\n",
    "app = Flask(__name__,static_url_path = \"/images\" , static_folder = \"./images/\" )\n",
    "\n",
    "@app.route('/',methods=['GET'])\n",
    "def hello_world():\n",
    "    return 'Hello, World!'\n",
    "\n",
    "if __name__ == \"__main__\":\n",
    "    app.run(host='0.0.0.0',port='5000')"
   ]
  },
  {
   "cell_type": "code",
   "execution_count": null,
   "metadata": {},
   "outputs": [],
   "source": [
    "\"\"\"\n",
    "get 時 回傳json\n",
    "\"\"\"\n",
    "from flask import Flask, request, abort, jsonify\n",
    "app = Flask(__name__,static_url_path = \"/images\" , static_folder = \"./images/\" )\n",
    "\n",
    "@app.route('/',methods=['GET'])\n",
    "def hello_world():\n",
    "    t = {'a':1,'b':'hello'}\n",
    "    return jsonify(t)\n",
    "\n",
    "if __name__ == \"__main__\":\n",
    "    app.run(host='0.0.0.0')"
   ]
  },
  {
   "cell_type": "code",
   "execution_count": null,
   "metadata": {},
   "outputs": [],
   "source": [
    "\"\"\"\n",
    "flask get結合query string\n",
    "\n",
    "使用時，查詢http://192.168.114.10:5000?hello=iii\n",
    "\n",
    "\"\"\"\n",
    "\n",
    "from flask import Flask, request, abort, jsonify\n",
    "app = Flask(__name__,static_url_path = \"/images\" , static_folder = \"./images/\" )\n",
    "\n",
    "@app.route('/',methods=['GET'])\n",
    "def hello_world():\n",
    "    t = request.args.get('hello')\n",
    "    jsonDict = {'hello':t}\n",
    "    return jsonify(jsonDict)\n",
    "\n",
    "if __name__ == \"__main__\":\n",
    "    app.run(host='0.0.0.0')"
   ]
  },
  {
   "cell_type": "code",
   "execution_count": null,
   "metadata": {},
   "outputs": [],
   "source": [
    "\"\"\"\n",
    "\n",
    "flask simple post\n",
    "用戶可以對Server丟post，\n",
    "Server會找出 欄位為nickname的值進行操作\n",
    "\n",
    "\"\"\"\n",
    "\n",
    "from flask import Flask, request, abort, jsonify\n",
    "app = Flask(__name__,static_url_path = \"/images\" , static_folder = \"./images/\" )\n",
    "\n",
    "@app.route('/',methods=['POST'])\n",
    "def hello_world():\n",
    "    t =request.get_json()\n",
    "    jsonDict = {'nickname':t.get('nickname','little apple')}\n",
    "    return jsonify(jsonDict)\n",
    "\n",
    "if __name__ == \"__main__\":\n",
    "    app.run(host='0.0.0.0')"
   ]
  },
  {
   "cell_type": "code",
   "execution_count": null,
   "metadata": {
    "collapsed": true
   },
   "outputs": [],
   "source": []
  }
 ],
 "metadata": {
  "kernelspec": {
   "display_name": "Python 3",
   "language": "python",
   "name": "python3"
  },
  "language_info": {
   "codemirror_mode": {
    "name": "ipython",
    "version": 3
   },
   "file_extension": ".py",
   "mimetype": "text/x-python",
   "name": "python",
   "nbconvert_exporter": "python",
   "pygments_lexer": "ipython3",
   "version": "3.6.2"
  }
 },
 "nbformat": 4,
 "nbformat_minor": 1
}
