{
 "cells": [
  {
   "cell_type": "code",
   "execution_count": 1,
   "metadata": {
    "collapsed": true
   },
   "outputs": [
    {
     "data": {
      "text/plain": [
       "'\\n\\n'"
      ]
     },
     "execution_count": 1,
     "metadata": {},
     "output_type": "execute_result"
    }
   ],
   "source": [
    "\"\"\"\n",
    "\n",
    "後端工程師經常會需要做一些適合用一個http server來做的需求，\n",
    "有的時候如果會快速地開發一個簡單易用的http server，這些需求也就會因此迎刃而解。\n",
    "\n",
    "\"\"\""
   ]
  },
  {
   "cell_type": "code",
   "execution_count": 2,
   "metadata": {},
   "outputs": [
    {
     "name": "stdout",
     "output_type": "stream",
     "text": [
      "Collecting flask\r\n"
     ]
    },
    {
     "name": "stdout",
     "output_type": "stream",
     "text": [
      "  Downloading Flask-0.12.2-py2.py3-none-any.whl (83kB)\r\n\u001b[?25l\r\u001b[K    12% |████                            | 10kB 1.1MB/s eta 0:00:01"
     ]
    },
    {
     "name": "stdout",
     "output_type": "stream",
     "text": [
      "\r\u001b[K    24% |████████                        | 20kB 162kB/s eta 0:00:01\r\u001b[K    37% |███████████▉                    | 30kB 203kB/s eta 0:00:01"
     ]
    },
    {
     "name": "stdout",
     "output_type": "stream",
     "text": [
      "\r\u001b[K    49% |███████████████▉                | 40kB 166kB/s eta 0:00:01"
     ]
    },
    {
     "name": "stdout",
     "output_type": "stream",
     "text": [
      "\r\u001b[K    61% |███████████████████▊            | 51kB 151kB/s eta 0:00:01\r\u001b[K    74% |███████████████████████▊        | 61kB 181kB/s eta 0:00:01\r\u001b[K    86% |███████████████████████████▋    | 71kB 208kB/s eta 0:00:01\r\u001b[K    98% |███████████████████████████████▋| 81kB 238kB/s eta 0:00:01"
     ]
    },
    {
     "name": "stdout",
     "output_type": "stream",
     "text": [
      "\r\u001b[K    100% |████████████████████████████████| 92kB 202kB/s \r\n"
     ]
    },
    {
     "name": "stdout",
     "output_type": "stream",
     "text": [
      "\u001b[?25hCollecting Werkzeug>=0.7 (from flask)\r\n"
     ]
    },
    {
     "name": "stdout",
     "output_type": "stream",
     "text": [
      "  Downloading Werkzeug-0.12.2-py2.py3-none-any.whl (312kB)\r\n\u001b[?25l\r\u001b[K    3% |█                               | 10kB 16.2MB/s eta 0:00:01\r\u001b[K    6% |██                              | 20kB 3.0MB/s eta 0:00:01\r\u001b[K    9% |███▏                            | 30kB 3.9MB/s eta 0:00:01\r\u001b[K    13% |████▏                           | 40kB 2.3MB/s eta 0:00:01\r\u001b[K    16% |█████▎                          | 51kB 1.9MB/s eta 0:00:01\r\u001b[K    19% |██████▎                         | 61kB 2.3MB/s eta 0:00:01"
     ]
    },
    {
     "name": "stdout",
     "output_type": "stream",
     "text": [
      "\r\u001b[K    22% |███████▎                        | 71kB 1.9MB/s eta 0:00:01\r\u001b[K    26% |████████▍                       | 81kB 1.7MB/s eta 0:00:01\r\u001b[K    29% |█████████▍                      | 92kB 1.9MB/s eta 0:00:01"
     ]
    },
    {
     "name": "stdout",
     "output_type": "stream",
     "text": [
      "\r\u001b[K    32% |██████████▌                     | 102kB 935kB/s eta 0:00:01\r\u001b[K    35% |███████████▌                    | 112kB 928kB/s eta 0:00:01\r\u001b[K    39% |████████████▋                   | 122kB 926kB/s eta 0:00:01\r\u001b[K    42% |█████████████▋                  | 133kB 890kB/s eta 0:00:01\r\u001b[K    45% |██████████████▋                 | 143kB 939kB/s eta 0:00:01\r\u001b[K    49% |███████████████▊                | 153kB 945kB/s eta 0:00:01\r\u001b[K    52% |████████████████▊               | 163kB 921kB/s eta 0:00:01\r\u001b[K    55% |█████████████████▉              | 174kB 990kB/s eta 0:00:01"
     ]
    },
    {
     "name": "stdout",
     "output_type": "stream",
     "text": [
      "\r\u001b[K    58% |██████████████████▉             | 184kB 1.1MB/s eta 0:00:01\r\u001b[K    62% |████████████████████            | 194kB 1.1MB/s eta 0:00:01\r\u001b[K    65% |█████████████████████           | 204kB 2.3MB/s eta 0:00:01\r\u001b[K    68% |██████████████████████          | 215kB 2.0MB/s eta 0:00:01\r\u001b[K    71% |███████████████████████         | 225kB 2.1MB/s eta 0:00:01"
     ]
    },
    {
     "name": "stdout",
     "output_type": "stream",
     "text": [
      "\r\u001b[K    75% |████████████████████████        | 235kB 919kB/s eta 0:00:01\r\u001b[K    78% |█████████████████████████▏      | 245kB 943kB/s eta 0:00:01\r\u001b[K    81% |██████████████████████████▏     | 256kB 1.0MB/s eta 0:00:01\r\u001b[K    85% |███████████████████████████▎    | 266kB 1.0MB/s eta 0:00:01\r\u001b[K    88% |████████████████████████████▎   | 276kB 1.1MB/s eta 0:00:01\r\u001b[K    91% |█████████████████████████████▎  | 286kB 1.1MB/s eta 0:00:01\r\u001b[K    94% |██████████████████████████████▍ | 296kB 1.1MB/s eta 0:00:01\r\u001b[K    98% |███████████████████████████████▍| 307kB 1.2MB/s eta 0:00:01"
     ]
    },
    {
     "name": "stdout",
     "output_type": "stream",
     "text": [
      "\r\u001b[K    100% |████████████████████████████████| 317kB 624kB/s \r\n"
     ]
    },
    {
     "name": "stdout",
     "output_type": "stream",
     "text": [
      "\u001b[?25hCollecting itsdangerous>=0.21 (from flask)\r\n"
     ]
    },
    {
     "name": "stdout",
     "output_type": "stream",
     "text": [
      "  Downloading itsdangerous-0.24.tar.gz (46kB)\r\n\u001b[?25l\r\u001b[K    22% |███████                         | 10kB 9.1MB/s eta 0:00:01\r\u001b[K    44% |██████████████                  | 20kB 7.0MB/s eta 0:00:01\r\u001b[K    66% |█████████████████████▏          | 30kB 5.7MB/s eta 0:00:01\r\u001b[K    88% |████████████████████████████▏   | 40kB 5.7MB/s eta 0:00:01"
     ]
    },
    {
     "name": "stdout",
     "output_type": "stream",
     "text": [
      "\r\u001b[K    100% |████████████████████████████████| 51kB 1.2MB/s \r\n"
     ]
    },
    {
     "name": "stdout",
     "output_type": "stream",
     "text": [
      "\u001b[?25hRequirement already satisfied: Jinja2>=2.4 in /opt/conda/lib/python3.6/site-packages (from flask)\r\n"
     ]
    },
    {
     "name": "stdout",
     "output_type": "stream",
     "text": [
      "Collecting click>=2.0 (from flask)\r\n"
     ]
    },
    {
     "name": "stdout",
     "output_type": "stream",
     "text": [
      "  Downloading click-6.7-py2.py3-none-any.whl (71kB)\r\n\u001b[?25l\r\u001b[K    14% |████▋                           | 10kB 13.3MB/s eta 0:00:01\r\u001b[K    28% |█████████▏                      | 20kB 14.0MB/s eta 0:00:01\r\u001b[K    43% |█████████████▉                  | 30kB 14.4MB/s eta 0:00:01\r\u001b[K    57% |██████████████████▍             | 40kB 16.1MB/s eta 0:00:01\r\u001b[K    71% |███████████████████████         | 51kB 16.2MB/s eta 0:00:01\r\u001b[K    86% |███████████████████████████▋    | 61kB 15.9MB/s eta 0:00:01"
     ]
    },
    {
     "name": "stdout",
     "output_type": "stream",
     "text": [
      "\r\u001b[K    100% |████████████████████████████████| 71kB 866kB/s \r\n"
     ]
    },
    {
     "name": "stdout",
     "output_type": "stream",
     "text": [
      "\u001b[?25hRequirement already satisfied: MarkupSafe>=0.23 in /opt/conda/lib/python3.6/site-packages (from Jinja2>=2.4->flask)\r\nBuilding wheels for collected packages: itsdangerous\r\n"
     ]
    },
    {
     "name": "stdout",
     "output_type": "stream",
     "text": [
      "  Running setup.py bdist_wheel for itsdangerous ... \u001b[?25l-"
     ]
    },
    {
     "name": "stdout",
     "output_type": "stream",
     "text": [
      "\b \bdone\r\n\u001b[?25h  Stored in directory: /home/jovyan/.cache/pip/wheels/fc/a8/66/24d655233c757e178d45dea2de22a04c6d92766abfb741129a\r\n"
     ]
    },
    {
     "name": "stdout",
     "output_type": "stream",
     "text": [
      "Successfully built itsdangerous\r\nInstalling collected packages: Werkzeug, itsdangerous, click, flask\r\n"
     ]
    },
    {
     "name": "stdout",
     "output_type": "stream",
     "text": [
      "Successfully installed Werkzeug-0.12.2 click-6.7 flask-0.12.2 itsdangerous-0.24\r\n"
     ]
    }
   ],
   "source": [
    "# 安裝flask套件\n",
    "!pip install flask"
   ]
  },
  {
   "cell_type": "code",
   "execution_count": 2,
   "metadata": {},
   "outputs": [
    {
     "name": "stderr",
     "output_type": "stream",
     "text": [
      " * Running on http://0.0.0.0:5000/ (Press CTRL+C to quit)\n"
     ]
    },
    {
     "name": "stderr",
     "output_type": "stream",
     "text": [
      "127.0.0.1 - - [27/Aug/2017 17:15:02] \"GET / HTTP/1.1\" 200 -\n"
     ]
    }
   ],
   "source": [
    "\"\"\"\n",
    "flask 簡單hello world 實作\n",
    "\"\"\"\n",
    "\n",
    "from flask import Flask, request, abort\n",
    "app = Flask(__name__,static_url_path = \"/images\" , static_folder = \"./images/\" )\n",
    "\n",
    "@app.route('/',methods=['GET'])\n",
    "def hello_world():\n",
    "    return 'Hello, World!'\n",
    "\n",
    "if __name__ == \"__main__\":\n",
    "    app.run(host='0.0.0.0',port='5000')"
   ]
  },
  {
   "cell_type": "code",
   "execution_count": 4,
   "metadata": {},
   "outputs": [
    {
     "name": "stderr",
     "output_type": "stream",
     "text": [
      " * Running on http://0.0.0.0:5000/ (Press CTRL+C to quit)\n"
     ]
    },
    {
     "name": "stderr",
     "output_type": "stream",
     "text": [
      "127.0.0.1 - - [27/Aug/2017 17:16:26] \"GET / HTTP/1.1\" 200 -\n"
     ]
    }
   ],
   "source": [
    "\"\"\"\n",
    "get 時 回傳json\n",
    "\"\"\"\n",
    "from flask import Flask, request, abort, jsonify\n",
    "app = Flask(__name__,static_url_path = \"/images\" , static_folder = \"./images/\" )\n",
    "\n",
    "@app.route('/',methods=['GET'])\n",
    "def hello_world():\n",
    "    t = {'a':1,'b':'hello'}\n",
    "    return jsonify(t)\n",
    "\n",
    "if __name__ == \"__main__\":\n",
    "    app.run(host='0.0.0.0')"
   ]
  },
  {
   "cell_type": "code",
   "execution_count": 7,
   "metadata": {},
   "outputs": [
    {
     "name": "stderr",
     "output_type": "stream",
     "text": [
      " * Running on http://0.0.0.0:5000/ (Press CTRL+C to quit)\n"
     ]
    }
   ],
   "source": [
    "\"\"\"\n",
    "flask get結合query string\n",
    "\n",
    "\"\"\"\n",
    "\n",
    "from flask import Flask, request, abort, jsonify\n",
    "app = Flask(__name__,static_url_path = \"/images\" , static_folder = \"./images/\" )\n",
    "\n",
    "@app.route('/',methods=['GET'])\n",
    "def hello_world():\n",
    "    t = request.args.get('hello')\n",
    "    jsonDict = {'hello':t}\n",
    "    return jsonify(jsonDict)\n",
    "\n",
    "if __name__ == \"__main__\":\n",
    "    app.run(host='0.0.0.0')"
   ]
  },
  {
   "cell_type": "code",
   "execution_count": null,
   "metadata": {},
   "outputs": [],
   "source": [
    "\"\"\"\n",
    "\n",
    "flask simple post\n",
    "\n",
    "\"\"\"\n",
    "\n",
    "\n",
    "from flask import Flask, request, abort, jsonify\n",
    "app = Flask(__name__,static_url_path = \"/images\" , static_folder = \"./images/\" )\n",
    "\n",
    "@app.route('/',methods=['POST'])\n",
    "def hello_world():\n",
    "    t = request.form.get('nickname', default='little apple')\n",
    "    jsonDict = {'nickname':t}\n",
    "    return jsonify(jsonDict)\n",
    "\n",
    "if __name__ == \"__main__\":\n",
    "    app.run(host='0.0.0.0')"
   ]
  }
 ],
 "metadata": {
  "kernelspec": {
   "display_name": "Python 2",
   "language": "python",
   "name": "python2"
  },
  "language_info": {
   "codemirror_mode": {
    "name": "ipython",
    "version": 2
   },
   "file_extension": ".py",
   "mimetype": "text/x-python",
   "name": "python",
   "nbconvert_exporter": "python",
   "pygments_lexer": "ipython2",
   "version": "2.7.6"
  }
 },
 "nbformat": 4,
 "nbformat_minor": 0
}
